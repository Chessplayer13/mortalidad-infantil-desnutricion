{
 "cells": [
  {
   "cell_type": "markdown",
   "id": "4415a1fe",
   "metadata": {},
   "source": [
    "## Visualización de tasas de mortalidad infantil por desnutrición (Colombia, nivel municipal)"
   ]
  },
  {
   "cell_type": "markdown",
   "id": "ee943181",
   "metadata": {},
   "source": [
    "#### Importación de librerias"
   ]
  },
  {
   "cell_type": "code",
   "execution_count": null,
   "id": "72cbb79f",
   "metadata": {},
   "outputs": [],
   "source": [
    "\n",
    "import pandas as pd\n",
    "import numpy as np\n",
    "import os\n",
    "import matplotlib.pyplot as plt\n",
    "import mapclassify\n",
    "import geopandas as gpd\n"
   ]
  },
  {
   "cell_type": "markdown",
   "id": "81039f9b",
   "metadata": {},
   "source": [
    "#### Importación de los datos"
   ]
  },
  {
   "cell_type": "code",
   "execution_count": null,
   "id": "4683253f",
   "metadata": {},
   "outputs": [],
   "source": [
    "df=pd.read_csv(\"Data/tasa_mortalidad_menores_5.csv\",dtype={\"MPIO\":str})"
   ]
  },
  {
   "cell_type": "markdown",
   "id": "320a4149",
   "metadata": {},
   "source": [
    "### Mapas de Colombia"
   ]
  },
  {
   "cell_type": "markdown",
   "id": "f214bc3c",
   "metadata": {},
   "source": [
    "#### Municipios"
   ]
  },
  {
   "cell_type": "markdown",
   "id": "d57e16a7",
   "metadata": {},
   "source": [
    "El shapefile de municipios no está incluido en este repositorio por su tamaño. Puedes descargarlo desde el siguiente enlace:\n",
    "\n",
    "[Descargar shapefile de municipios](https://geoportal.dane.gov.co/descargas/mgn_2024/MGN2024_MPIO_POLITICO.zip)\n",
    "\n",
    "Una vez descargado, colóca todos los archivos en la carpeta `Municipios/` del proyecto.\n"
   ]
  },
  {
   "cell_type": "code",
   "execution_count": null,
   "id": "b27dd384",
   "metadata": {},
   "outputs": [],
   "source": [
    "municipios=gpd.read_file(\"Municipios/MGN_ADM_MPIO_GRAFICO.shp\")"
   ]
  },
  {
   "cell_type": "markdown",
   "id": "6ca05238",
   "metadata": {},
   "source": [
    "#### Departamentos\n",
    "\n",
    "El shapefile de **departamentos** fue cargado con los siguientes propósitos:\n",
    "\n",
    "1. **Contextualizar geográficamente**  \n",
    "   Aunque el análisis se realiza a nivel municipal, la visualización se beneficia al mostrar también los límites departamentales. Esto permite al lector ubicar fácilmente en qué parte del país se encuentran los municipios con mayores tasas de desnutrición infantil.\n",
    "\n",
    "2. **Referencia visual y jerárquica**  \n",
    "   Dado que los departamentos son unidades administrativas superiores, incluir su contorno facilita una lectura más estructurada del mapa. Permite identificar patrones regionales o concentraciones dentro de determinadas zonas del país (como regiones Caribe, Pacífica, etc.).\n",
    "\n",
    "3. **Diseño estético del mapa**  \n",
    "   Superponer los límites departamentales sobre el mapa de municipios mejora la calidad visual del gráfico, delimitando con claridad los espacios sin recargar la información principal.\n",
    "\n",
    "4. **Posibles futuros análisis agregados**  \n",
    "   En caso de necesitar agrupar tasas o muertes a nivel departamental (por ejemplo, para análisis comparativos entre departamentos), ya se cuenta con la geometría necesaria para hacerlo fácilmente.\n"
   ]
  },
  {
   "cell_type": "code",
   "execution_count": null,
   "id": "44751eba",
   "metadata": {},
   "outputs": [],
   "source": [
    "departamentos=gpd.read_file(\"Departamentos/MGN_ADM_DPTO_POLITICO.shp\")\n",
    "departamentos=departamentos.to_crs(municipios.crs)"
   ]
  },
  {
   "cell_type": "markdown",
   "id": "7a482677",
   "metadata": {},
   "source": [
    "### Preparación del shapefile para el cruce con los datos de mortalidad infantil ( 0 a 4) por desnutricion\n",
    "\n",
    "El shapefile contiene la geometría de los municipios de Colombia, los códigos municipales se encuentran en la columna (`mpio_cdpmp`). Para realizar el cruce con el DataFrame que contiene las tasas de suicidio por departamento, fue necesario:\n",
    "\n",
    "**Renombrar la columna a `MPIO`** para que coincida con el nombre usado en los datos de tasas."
   ]
  },
  {
   "cell_type": "code",
   "execution_count": null,
   "id": "8c74b4bf",
   "metadata": {},
   "outputs": [],
   "source": [
    "municipios.rename(columns={'mpio_cdpmp':'MPIO'}, inplace=True)"
   ]
  },
  {
   "cell_type": "markdown",
   "id": "929be7bf",
   "metadata": {},
   "source": [
    "### Unión del shapefile con los datos de tasas de mortalidad infantil por desnutrición\n",
    "\n",
    "Una vez que tanto el shapefile como el DataFrame de tasas cuentan con una columna en común (`MPIO`) y tienen el mismo tipo de dato, se realiza la unión (`merge`) entre ambos. La columna `MPIO` corresponde al código DIVIPOLA, que es el identificador oficial asignado por el DANE a cada municipio en Colombia.\n",
    "\n",
    "Esta unión permite incorporar al shapefile las tasas de mortalidad infantil por desnutrición, por municipio y año, y así poder visualizarlas geográficamente.\n",
    "\n"
   ]
  },
  {
   "cell_type": "code",
   "execution_count": null,
   "id": "aa83b2c3",
   "metadata": {},
   "outputs": [],
   "source": [
    "figura= pd.merge(municipios, df, how=\"left\", on='MPIO')"
   ]
  },
  {
   "cell_type": "markdown",
   "id": "d1a69d23",
   "metadata": {},
   "source": [
    "## Selección de municipios para el análisis\n",
    "\n",
    "Para enfocar el análisis en contextos donde las cifras son estadísticamente significativas y epidemiológicamente relevantes, se aplicaron dos criterios de filtrado:\n",
    "\n",
    "1. **Tamaño poblacional**  \n",
    "   Se seleccionaron únicamente los municipios con una población de **5.000 o más niños menores de 5 años**. Este umbral permite excluir municipios con poblaciones muy pequeñas, donde incluso una sola muerte puede generar tasas extremadamente elevadas pero poco representativas.\n",
    "\n",
    "2. **Tasa de mortalidad por desnutrición**  \n",
    "   Se incluyeron solamente aquellos municipios cuya tasa de mortalidad por desnutrición en menores de 5 años es **superior a 1 por cada 100.000 niños**.\n",
    "\n",
    "   De esta manera, el análisis se centra en municipios donde el problema representa una preocupación real de salud pública y no una fluctuación aleatoria en municipios con muy baja población."
   ]
  },
  {
   "cell_type": "code",
   "execution_count": null,
   "id": "de781b74",
   "metadata": {},
   "outputs": [],
   "source": [
    "figura= figura[(figura['Población_menor']>=5000) & (figura['tasa']>=1)]"
   ]
  },
  {
   "cell_type": "markdown",
   "id": "f35b184e",
   "metadata": {},
   "source": [
    "### Mapa Corropletico"
   ]
  },
  {
   "cell_type": "code",
   "execution_count": null,
   "id": "430921f1",
   "metadata": {},
   "outputs": [],
   "source": [
    "import matplotlib.pyplot as plt\n",
    "import matplotlib.animation as animation\n",
    "from IPython.display import HTML\n",
    "\n",
    "# === 1. Años disponibles ===\n",
    "years = sorted(figura[\"AÑO\"].unique())\n",
    "\n",
    "# === 2. Clasificador de tasas personalizado ===\n",
    "bins = [3, 5, 10, 20, 30, 50, 100, figura[\"tasa\"].max() + 1]\n",
    "\n",
    "# === 3. Crear figura base ===\n",
    "fig, ax = plt.subplots(figsize=(12, 10))\n",
    "\n",
    "# === 4. Función de animación por año ===\n",
    "def update(year):\n",
    "    ax.clear()\n",
    "\n",
    "    # Subconjunto del año\n",
    "    data = figura[figura[\"AÑO\"] == year]\n",
    "\n",
    "    # Mapa de municipios\n",
    "    data.plot(\n",
    "        column='tasa',\n",
    "        cmap='OrRd',\n",
    "        linewidth=0.5,\n",
    "        edgecolor='0.8',\n",
    "        legend=True,\n",
    "        scheme='UserDefined',\n",
    "        classification_kwds={'bins': bins},\n",
    "        legend_kwds={\n",
    "            'title': 'Tasas\\n(menores de 5 años)',\n",
    "            'loc': 'upper left',\n",
    "            'bbox_to_anchor': (1, 0.4),\n",
    "            'fontsize': 10\n",
    "        },\n",
    "        ax=ax\n",
    "    )\n",
    "\n",
    "    # Contorno de departamentos\n",
    "    departamentos.boundary.plot(ax=ax, linewidth=1.2, edgecolor='gray')\n",
    "\n",
    "    # === Etiquetas con flechas (solo tasa >= 45) ===\n",
    "    offset_dict = {\n",
    "        \"AGUSTÍN CODAZZI\": (1.8, 0.3),\n",
    "        \"CIÉNAGA\": (-0.9, 0.7),\n",
    "        \"CUMARIBO\": (-1.5, -0.7),\n",
    "        \"EL BANCO\": (0.5, -0.6),\n",
    "        \"FUNDACIÓN\": (0.4, 0.6),\n",
    "        \"LETICIA\": (-1, -1),\n",
    "        \"MAICAO\": (1.9, 0.2),\n",
    "        \"MANAURE\": (-0.3, 1.5),\n",
    "        \"PUERTO GAITÁN\": (2, 0.6),\n",
    "        \"QUIBDÓ\": (-1.8, -0.3),\n",
    "        \"RIOHACHA\": (-1.1, 1.1),\n",
    "        \"TIBÚ\": (1.5, -0.2),\n",
    "        \"TIERRALTA\": (-2, 1),\n",
    "        \"TURBO\": (-1.8, -0.5),\n",
    "        \"URIBIA\": (1.3, 1.2),\n",
    "        \"ZONA BANANERA\": (-2, 0)\n",
    "    }\n",
    "\n",
    "    for _, row in data.iterrows():\n",
    "        if row[\"tasa\"] < 45 or row.geometry.is_empty:\n",
    "            continue\n",
    "\n",
    "        nombre = row[\"mpio_cnmbr\"]\n",
    "        if nombre not in offset_dict:\n",
    "            continue\n",
    "\n",
    "        x, y = row.geometry.representative_point().coords[0]\n",
    "        dx, dy = offset_dict[nombre]\n",
    "\n",
    "        etiqueta = f\"{nombre} ({row['tasa']:.1f})\"\n",
    "\n",
    "        ax.annotate(\n",
    "            etiqueta,\n",
    "            xy=(x, y),\n",
    "            xytext=(x + dx, y + dy),\n",
    "            fontsize=9,\n",
    "            ha='center',\n",
    "            va='center',\n",
    "            color='black',\n",
    "            arrowprops=dict(\n",
    "                arrowstyle=\"->\",\n",
    "                color='yellow',\n",
    "                lw=1.5\n",
    "            ),\n",
    "            bbox=dict(boxstyle=\"round,pad=0.2\", fc=\"white\", ec=\"black\", lw=0.5)\n",
    "        )\n",
    "\n",
    "    # Título fijo del mapa\n",
    "    ax.set_title(\"Tasas de mortalidad infantil ( 0-4 años) por desnutrición en los municipios de Colombia\", fontsize=16, loc='center', pad=20)\n",
    "\n",
    "    # Año grande a la derecha del mapa\n",
    "    xlim = ax.get_xlim()\n",
    "    ylim = ax.get_ylim()\n",
    "    ax.text(\n",
    "        xlim[1] + 1,  # posición fuera del mapa\n",
    "        (ylim[0] + ylim[1]) / 2,  # centrado vertical\n",
    "        str(year),\n",
    "        fontsize=40,\n",
    "        weight='bold',\n",
    "        ha='left',\n",
    "        va='center'\n",
    "    )\n",
    "\n",
    "    ax.axis('off')\n",
    "\n",
    "    # Pie de página\n",
    "    fig.text(\n",
    "        0.01, 0.01,\n",
    "        \"Elaboración propia.\\n\"\n",
    "        \"Tasa de muertes por desnutrición en menores de 5 años por 100.000 hab.\\n\"\n",
    "        \"Fuente: Microdatos Estadísticas Vitales – DANE.\\n\"\n",
    "        \"Nota: Se excluyen municipios con población menor a 5.000 niños (0-4 años), y tasas menores a 1.\\n\"\n",
    "        \"Se etiquetan únicamente los municipios con tasas mayores o iguales a 45 por 100.000 hab (0 a 4 años).\",\n",
    "        ha='left', va='bottom', fontsize=9, color='gray'\n",
    "    )\n",
    "\n",
    "    plt.tight_layout()\n",
    "    plt.close()\n",
    "\n",
    "# === 5. Crear animación ===\n",
    "ani = animation.FuncAnimation(fig, update, frames=years, interval=1500, repeat=False)\n",
    "\n",
    "# === 6. Mostrar en notebook ===\n",
    "HTML(ani.to_jshtml())\n"
   ]
  },
  {
   "cell_type": "code",
   "execution_count": null,
   "id": "89c07230",
   "metadata": {},
   "outputs": [],
   "source": [
    "ani.save(\"mortalidad_desnutricion.mp4\", writer='ffmpeg', dpi=200)"
   ]
  }
 ],
 "metadata": {
  "kernelspec": {
   "display_name": "Python 3",
   "language": "python",
   "name": "python3"
  },
  "language_info": {
   "codemirror_mode": {
    "name": "ipython",
    "version": 3
   },
   "file_extension": ".py",
   "mimetype": "text/x-python",
   "name": "python",
   "nbconvert_exporter": "python",
   "pygments_lexer": "ipython3",
   "version": "3.13.5"
  }
 },
 "nbformat": 4,
 "nbformat_minor": 5
}
