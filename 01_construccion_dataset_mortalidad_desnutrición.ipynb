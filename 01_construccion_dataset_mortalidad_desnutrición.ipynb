{
 "cells": [
  {
   "cell_type": "markdown",
   "id": "9c2ac70b",
   "metadata": {},
   "source": [
    "## Construcción del archivo base para visualización de mortalidad infantil por desnutrición"
   ]
  },
  {
   "cell_type": "markdown",
   "id": "3bbc5d46",
   "metadata": {},
   "source": [
    "#### Importación de librerias"
   ]
  },
  {
   "cell_type": "code",
   "execution_count": null,
   "id": "5c05d35f",
   "metadata": {},
   "outputs": [],
   "source": [
    "import pandas as pd\n",
    "import numpy as np\n",
    "import os\n",
    "import matplotlib.pyplot as plt\n",
    "import mapclassify\n",
    "import geopandas as gpd\n"
   ]
  },
  {
   "cell_type": "markdown",
   "id": "d43155a9",
   "metadata": {},
   "source": [
    "#### Importacion de las bases de datos\n",
    "\n",
    "Los microdatos se consiguen en el siguiente link:\n",
    "https://microdatos.dane.gov.co/index.php/catalog/DEM-Microdatos\n",
    "\n",
    "Ahi se descargan las Estadisticas Vitales y se usan los csv's \"defunciones no fetales\", los cuales fueron guardados en una carpeta llamada Defunciones\n",
    "\n",
    "\n",
    "Para entender las variables es necesario tener el diccionario. Este mismo lo pueden encontrar en el siguiente link:\n",
    "https://microdatos.dane.gov.co/index.php/catalog/696/pdf-documentation"
   ]
  },
  {
   "cell_type": "code",
   "execution_count": null,
   "id": "83d4ba8f",
   "metadata": {},
   "outputs": [],
   "source": [
    "df1= pd.read_csv(\"Defunciones/nofetal2019.csv\",encoding=\"latin1\")\n",
    "df2=pd.read_csv(\"Defunciones/nofetal2020.csv\", encoding=\"latin1\")\n",
    "df3=pd.read_csv(\"Defunciones/nofetal2021.csv\",encoding=\"latin1\")\n",
    "df4=pd.read_csv(\"Defunciones/nofetal2022.csv\",encoding=\"latin1\")\n",
    "df5=pd.read_csv(\"Defunciones/nofetal2023.csv\",encoding=\"latin1\")"
   ]
  },
  {
   "cell_type": "markdown",
   "id": "e6cba85b",
   "metadata": {},
   "source": [
    "#### Selección de variables requeridas"
   ]
  },
  {
   "cell_type": "code",
   "execution_count": null,
   "id": "72793770",
   "metadata": {},
   "outputs": [],
   "source": [
    "defun19=df1[['COD_DPTO','COD_MUNIC','CODPTORE','CODMUNRE','ANO', 'GRU_ED1', 'EST_CIVIL','SEXO','CAU_HOMOL', 'CAUSA_667']]\n",
    "defun20=df2[['COD_DPTO','COD_MUNIC','CODPTORE','CODMUNRE','ANO', 'GRU_ED1', 'EST_CIVIL','SEXO','CAU_HOMOL', 'CAUSA_667']]\n",
    "defun21=df3[['COD_DPTO','COD_MUNIC','CODPTORE','CODMUNRE','ANO', 'GRU_ED1', 'EST_CIVIL','SEXO','CAU_HOMOL', 'CAUSA_667']]\n",
    "defun22=df4[['COD_DPTO','COD_MUNIC','CODPTORE','CODMUNRE','ANO', 'GRU_ED1', 'EST_CIVIL','SEXO','CAU_HOMOL', 'CAUSA_667']]\n",
    "defun23=df5[['COD_DPTO','COD_MUNIC','CODPTORE','CODMUNRE','ANO', 'GRU_ED1', 'EST_CIVIL','SEXO','CAU_HOMOL', 'CAUSA_667']]\n"
   ]
  },
  {
   "cell_type": "markdown",
   "id": "222260c0",
   "metadata": {},
   "source": [
    "#### Concatenacion de los dataframes"
   ]
  },
  {
   "cell_type": "code",
   "execution_count": null,
   "id": "00f81493",
   "metadata": {},
   "outputs": [],
   "source": [
    "defu=pd.concat([defun19,defun20,defun21,defun22,defun23], ignore_index=True)"
   ]
  },
  {
   "cell_type": "markdown",
   "id": "0c1b27db",
   "metadata": {},
   "source": [
    "\n",
    "### 🔍 Filtrado de muertes por desnutrición y deficiencias nutricionales\n",
    "\n",
    "Para este análisis, se filtraron las defunciones cuya causa agrupada corresponde al código **602** de la **Lista 6/67 de la OPS**, adoptada por el DANE para la clasificación de causas de muerte. Esta categoría incluye los códigos **E40 a E46** y **E50 a E64** de la **Clasificación Internacional de Enfermedades (CIE-10)**, que comprenden:\n",
    "\n",
    "- **Desnutrición energético-proteica** (como marasmo, kwashiorkor y desnutrición severa no especificada),\n",
    "- **Deficiencias de vitaminas y minerales**, como vitamina A, complejo B, hierro, entre otros.\n",
    "\n",
    "Este filtro permite aislar los casos asociados a **deficiencias nutricionales**, incluyendo **anemias nutricionales**, sin mezclar otras causas de mortalidad infantil.\n",
    "\n",
    "### Grupo Etario\n",
    "\n",
    "- **Grupos etarios menores de 5 años**: Se seleccionaron únicamente los registros correspondientes a niños y niñas **entre 0 y 4 años**, que comprenden la primera infancia. Esta etapa de la vida es crítica desde el punto de vista nutricional, ya que la desnutrición en estos años tiene efectos severos sobre el desarrollo físico y cognitivo, además de una mayor vulnerabilidad frente a enfermedades.\n",
    "\n",
    "Con esta doble condición se garantiza que el análisis refleje con mayor precisión el comportamiento de la mortalidad por desnutrición **en la población infantil más vulnerable**, lo que es fundamental para generar evidencia útil en la formulación de políticas públicas en salud y nutrición.\n",
    "\n",
    "### NA's\n",
    "\n",
    "Se eliminaron los registros con informacion ausente para hacer el dataset más optimo\n"
   ]
  },
  {
   "cell_type": "code",
   "execution_count": null,
   "id": "ebe4eca0",
   "metadata": {},
   "outputs": [],
   "source": [
    "nutri = defu[(defu['CAUSA_667'] == 602) & (defu['GRU_ED1'] <= 8)]\n",
    "nutri=nutri.dropna()\n",
    "nutri"
   ]
  },
  {
   "cell_type": "markdown",
   "id": "77bd0a6a",
   "metadata": {},
   "source": [
    "### 🧩 Construcción del código DIVIPOLA\n",
    "\n",
    "Para poder enlazar la información de defunciones con el mapa municipal, es necesario contar con un identificador geográfico estándar. En este caso se construyó el campo `MUNICIPIO`, correspondiente al **código DIVIPOLA del MUNICIPIO**, concatenando:\n",
    "\n",
    "- El **código del departamento de residencia**, ajustado a 2 dígitos con ceros a la izquierda.\n",
    "- El **código del MUNICIPIO de residencia**, ajustado a 3 dígitos con ceros a la izquierda.\n",
    "\n",
    "> ⚠️ **Importante**: Se utilizó la **residencia habitual del menor** (y no el lugar donde ocurrió el fallecimiento), con el objetivo de identificar los territorios donde se concentra la mayor vulnerabilidad y donde deben focalizarse las acciones de política pública.\n",
    "\n",
    "Este identificador garantiza la compatibilidad con los archivos espaciales (shapefiles) oficiales del DANE, donde los municipios están identificados mediante el código DIVIPOLA de 5 dígitos.\n"
   ]
  },
  {
   "cell_type": "code",
   "execution_count": null,
   "id": "cf00a53c",
   "metadata": {},
   "outputs": [],
   "source": [
    "nutri[['CODPTORE','CODMUNRE']]= nutri[['CODPTORE','CODMUNRE']].astype(int)\n",
    "nutri['CODPTORE']=nutri['CODPTORE'].astype(str).str.zfill(2)\n",
    "nutri['CODMUNRE']=nutri['CODMUNRE'].astype(str).str.zfill(3)\n",
    "nutri['MUNICIPIO'] = nutri['CODPTORE'] + nutri['CODMUNRE']"
   ]
  },
  {
   "cell_type": "markdown",
   "id": "0683359b",
   "metadata": {},
   "source": [
    "### Agrupación de  muertes infantil por desnutricion  por año y municipio de residencia\n",
    "\n",
    "En este paso se agrupa el total de casos de desnutricion por año (`ANO`) y por código de MUNICIPIO  de residencia (`MUNICIPIO`), utilizando el método `groupby()` seguido de `size()` para contar los registros.\n",
    "\n",
    "Luego, se renombran las columnas resultantes para mayor claridad:\n",
    "- `MUNICIPIO` se cambia a `MPIO`\n",
    "- `ANO` se cambia a `AÑO`\n",
    "\n",
    "Esto permite tener una tabla resumen con el número de muertes por desnutrición (0 a 4 años) registrados por MUNICIPIO de residencia y por año, que puede usarse para análisis estadístico o para representar la información gráficamente (por ejemplo, en mapas o series temporales)."
   ]
  },
  {
   "cell_type": "code",
   "execution_count": null,
   "id": "512fd907",
   "metadata": {},
   "outputs": [],
   "source": [
    "tabla= nutri.groupby(['ANO','MUNICIPIO']).size().reset_index(name=\"Cantidad\")\n",
    "tabla= tabla.rename(columns={'MUNICIPIO':'MPIO', 'ANO':'AÑO'})"
   ]
  },
  {
   "cell_type": "markdown",
   "id": "45f105a7",
   "metadata": {},
   "source": [
    "### Importacion de proyecciones de población DANE"
   ]
  },
  {
   "cell_type": "markdown",
   "id": "ecb2e581",
   "metadata": {},
   "source": [
    "#### Proyección de población por municipio - 2019\n",
    "\n",
    "##### 🧮 Procesamiento de la población menor de 5 años\n",
    "\n",
    "Este fragmento de código tiene como objetivo calcular la población total de menores de 5 años por municipio para el año 2019. A continuación, se describen los pasos realizados:\n",
    "\n",
    "1. **Carga del archivo**  \n",
    "   Se lee el archivo de proyecciones de población (`DCD_19_munic.xlsx`), omitiendo las primeras 11 filas que contienen metadatos.\n",
    "\n",
    "2. **Filtrado por año y área geográfica**  \n",
    "   Se filtran únicamente los registros correspondientes al año **2019** y al total del país (`\"Total\"`), es decir, sin distinción entre zonas urbanas y rurales.\n",
    "\n",
    "3. **Estandarización del código municipal**  \n",
    "   Se convierte el código del municipio (`MPIO`) a cadena de texto de 5 dígitos para facilitar la unión con otras fuentes de datos.\n",
    "\n",
    "4. **Eliminación de columnas no necesarias**  \n",
    "   Se eliminan las columnas `ÁREA GEOGRÁFICA` y `DPNOM`, que no son requeridas para el análisis posterior.\n",
    "\n",
    "5. **Transformación de formato ancho a largo**  \n",
    "   Se reorganiza el DataFrame usando `melt`, lo cual permite convertir las columnas de edad (`Total_0`, `Total_1`, etc.) en una sola columna llamada `Edad`.\n",
    "\n",
    "6. **Selección de los grupos etarios deseados**  \n",
    "   Se filtran únicamente las edades `Total_0` a `Total_4`, que corresponden a la población menor de 5 años.\n",
    "\n",
    "7. **Agregación por municipio**  \n",
    "   Se agrupan los datos por municipio (`MPIO`) y año (`AÑO`), sumando la población de las edades seleccionadas.\n",
    "\n",
    "8. **Ajuste de tipos de datos**  \n",
    "   Finalmente, se convierten las columnas `Población_menor` y `AÑO` a tipo entero (`int`) para asegurar consistencia en el análisis posterior.\n"
   ]
  },
  {
   "cell_type": "code",
   "execution_count": null,
   "id": "9f216d28",
   "metadata": {},
   "outputs": [],
   "source": [
    "pob_19=pd.read_excel(\"Poblaciones/DCD_19_munic.xlsx\",skiprows=11)\n",
    "pob_19=pob_19[(pob_19['AÑO']==2019) & (pob_19['ÁREA GEOGRÁFICA']==\"Total\")]\n",
    "pob_19['MPIO']=pob_19['MPIO'].astype(str).str.zfill(5)\n",
    "pob_19.drop(columns=['ÁREA GEOGRÁFICA','DPNOM'], inplace=True)\n",
    "pob_1=pob_19.melt(id_vars=['MPIO', 'AÑO'], var_name='Edad', value_name='Población_menor')\n",
    "pob_1=pob_1[pob_1['Edad'].isin(['Total_0', 'Total_1', 'Total_2', 'Total_3', 'Total_4'])]\n",
    "pob_1=pob_1.groupby(['MPIO', 'AÑO'])['Población_menor'].sum().reset_index()\n",
    "pob_1[['Población_menor','AÑO']] = pob_1[['Población_menor','AÑO']].astype(int)"
   ]
  },
  {
   "cell_type": "markdown",
   "id": "4777870e",
   "metadata": {},
   "source": [
    "#### Proyección de población por departamento - 2020 a 2023\n",
    "\n",
    "### Proyección de población por municipio - 2020 a 2023\n",
    "\n",
    "##### 🧮 Procesamiento de la población menor de 5 años\n",
    "\n",
    "Este fragmento de código tiene como objetivo calcular la población total de menores de 5 años por municipio para los años **2020 a 2023**. A continuación, se describen los pasos realizados:\n",
    "\n",
    "1. **Carga del archivo**  \n",
    "   Se lee el archivo de proyecciones de población (`DCD_20_23_munic.xlsx`), omitiendo las primeras 8 filas que contienen metadatos.\n",
    "\n",
    "2. **Filtrado por años y área geográfica**  \n",
    "   Se seleccionan únicamente los registros correspondientes a los años **2020, 2021, 2022 y 2023** y al total nacional (`\"Total\"`), es decir, sin diferenciar entre zonas urbanas y rurales.\n",
    "\n",
    "3. **Estandarización del código municipal**  \n",
    "   Se convierte el código del municipio (`MPIO`) a tipo entero para corregir posibles errores y luego a cadena de texto de 5 dígitos para facilitar su uso posterior.\n",
    "\n",
    "4. **Transformación de formato ancho a largo**  \n",
    "   Se reorganiza el DataFrame usando `melt`, lo cual convierte las columnas de edad (`Total_0`, `Total_1`, etc.) en una sola columna llamada `Edad`.\n",
    "\n",
    "5. **Selección de los grupos etarios deseados**  \n",
    "   Se filtran únicamente las edades `Total_0` a `Total_4`, correspondientes a la población menor de 5 años.\n",
    "\n",
    "6. **Agregación por municipio y año**  \n",
    "   Se agrupan los datos por municipio (`MPIO`) y año (`AÑO`), sumando la población de las edades seleccionadas.\n",
    "\n",
    "7. **Ajuste de tipos de datos**  \n",
    "   Finalmente, se convierten las columnas `Población_menor` y `AÑO` a tipo entero (`int`) para asegurar consistencia en el análisis posterior.\n",
    "\n"
   ]
  },
  {
   "cell_type": "code",
   "execution_count": null,
   "id": "c82f27ef",
   "metadata": {},
   "outputs": [],
   "source": [
    "pob_20_23=pd.read_excel(\"Poblaciones/DCD_20_23_munic.xlsx\",skiprows=8)\n",
    "pob_20_23=pob_20_23[(pob_20_23['AÑO'].between(2020, 2023)) & (pob_20_23['ÁREA GEOGRÁFICA']==\"Total\")]\n",
    "pob_20_23['MPIO']=pob_20_23['MPIO'].astype(int)\n",
    "pob_20_23['MPIO']=pob_20_23['MPIO'].astype(str).str.zfill(5)\n",
    "pob_2=pob_20_23.melt(id_vars=['MPIO', 'AÑO'], var_name='Edad', value_name='Población_menor')\n",
    "pob_2=pob_2[pob_2['Edad'].isin(['Total_0', 'Total_1', 'Total_2', 'Total_3', 'Total_4'])]\n",
    "pob_2=pob_2.groupby(['MPIO', 'AÑO'])['Población_menor'].sum().reset_index()\n",
    "pob_2[['Población_menor','AÑO']] = pob_2[['Población_menor','AÑO']].astype(int)\n"
   ]
  },
  {
   "cell_type": "markdown",
   "id": "13e0acd2",
   "metadata": {},
   "source": [
    "### Unificación de proyecciones de población (2019 - 2023)\n",
    "\n",
    "Una vez procesadas por separado las proyecciones de población del año 2019 (`pob_1`) y las de los años 2020 a 2023 (`pob_2`), es necesario combinarlas en un único DataFrame para facilitar su uso posterior en los cálculos de tasas de mortalidad infantil por desnutricion por municipio y año.\n",
    "\n",
    "Se utiliza la función `pd.concat()` con `ignore_index=True` para:\n",
    "- Unir verticalmente los dos DataFrames (es decir, apilar las filas uno debajo del otro).\n",
    "- Reiniciar los índices del nuevo DataFrame unificado.\n",
    "\n",
    "El resultado es una tabla completa con la población menor a 5 años proyectada para todos los municipios colombianos entre 2019 y 2023, lo cual permitirá calcular tasas comparables y consistentes en todo el período analizado.\n",
    "\n",
    "\n"
   ]
  },
  {
   "cell_type": "code",
   "execution_count": null,
   "id": "d499f1d9",
   "metadata": {},
   "outputs": [],
   "source": [
    "pob= pd.concat([pob_1,pob_2], ignore_index=True)"
   ]
  },
  {
   "cell_type": "markdown",
   "id": "8b9295d2",
   "metadata": {},
   "source": [
    "### Cálculo de la tasa de mortalidad infantil por desnutricion por municipio y año\n",
    "\n",
    "Una vez unificados los datos de población (`pob`) y el conteo de muertes por desnutrición en niños menores de 5 años por municipio y año (`tabla`), se realiza una fusión con `pd.merge()` utilizando un `left join`. Esto garantiza que todos los registros de población se conserven, incluso si no hay registros para ese año o municipio."
   ]
  },
  {
   "cell_type": "code",
   "execution_count": null,
   "id": "b5520a19",
   "metadata": {},
   "outputs": [],
   "source": [
    "data=pd.merge(pob,tabla, how=\"left\", on=['AÑO', 'MPIO'])\n",
    "#se reemplazan los valores nulos en la columna Cantidad (ausencia de muertes por desnutrición reportados) por ceros\n",
    "data['Cantidad']=data['Cantidad'].fillna(0)\n",
    "# se convierte la columna Cantidad a tipo entero\n",
    "data['Cantidad']=data['Cantidad'].astype(int)\n",
    "# se calcula la tasa de muerte infantil por desnutricion por cada 100.000 infantes menores de 5 años\n",
    "data['tasa']=round(data['Cantidad']/data['Población_menor']*100000,2)"
   ]
  },
  {
   "cell_type": "markdown",
   "id": "fc9a0754",
   "metadata": {},
   "source": [
    "#### Guardar como csv para usar en la animación"
   ]
  },
  {
   "cell_type": "code",
   "execution_count": null,
   "id": "99bab7b0",
   "metadata": {},
   "outputs": [],
   "source": [
    "data.to_csv(\"tasa_mortalidad_menores_5.csv\", index=False)"
   ]
  }
 ],
 "metadata": {
  "kernelspec": {
   "display_name": "Python 3",
   "language": "python",
   "name": "python3"
  },
  "language_info": {
   "codemirror_mode": {
    "name": "ipython",
    "version": 3
   },
   "file_extension": ".py",
   "mimetype": "text/x-python",
   "name": "python",
   "nbconvert_exporter": "python",
   "pygments_lexer": "ipython3",
   "version": "3.13.5"
  }
 },
 "nbformat": 4,
 "nbformat_minor": 5
}
